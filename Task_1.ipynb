{
 "cells": [
  {
   "cell_type": "markdown",
   "metadata": {},
   "source": [
    "# Задание 1\n",
    "\n",
    "(**NB.** для запуска примеров кода нужен Python версии не ниже **3.10**, допускается использование других версий, в этом случае нужно самостоятельно избавиться от конструкции `match`).\n",
    "\n",
    "Есть следующий код для [автоматического дифференцирования](https://en.wikipedia.org/wiki/Automatic_differentiation), в котором используются особенности системы типов языка `Python`: "
   ]
  },
  {
   "cell_type": "code",
   "execution_count": 39,
   "metadata": {},
   "outputs": [],
   "source": [
    "from dataclasses import dataclass\n",
    "from typing import Union, Callable\n",
    "from numbers import Number\n",
    "import math\n",
    "\n",
    "@dataclass\n",
    "class Dual:\n",
    "    value: float\n",
    "    d: float\n",
    "\n",
    "    def __add__(self, other: Union[\"Dual\", Number]) -> \"Dual\":\n",
    "         match other:\n",
    "            case Dual(o_value, o_d):\n",
    "                return Dual(self.value + o_value, self.d + o_d)\n",
    "            case Number():\n",
    "                return Dual(float(other) + self.value, self.d)\n",
    "\n",
    "    def __mul__(self, other: Union[\"Dual\", Number]) -> \"Dual\":\n",
    "         match other:\n",
    "            case Dual(o_value, o_d):\n",
    "                return Dual(self.value * o_value, self.value * o_d + self.d * o_value)\n",
    "            case Number():\n",
    "                return Dual(float(other) * self.value, float(other) * self.d)    \n",
    "\n",
    "    __rmul__ = __mul__  # https://docs.python.org/3/reference/datamodel.html#object.__mul__\n",
    "    __radd__ = __add__  # https://docs.python.org/3/reference/datamodel.html#object.__radd__\n",
    "\n",
    "    def __sub__(self, other: Union[\"Dual\", Number]) -> \"Dual\":\n",
    "         match other:\n",
    "            case Dual(o_value, o_d):\n",
    "                return Dual(self.value - o_value, self.d - o_d)\n",
    "            case Number():\n",
    "                return Dual(float(other) - self.value, self.d)\n",
    "    \n",
    "    def __rsub__(self, other: Union[\"Dual\", Number]) -> \"Dual\":\n",
    "         match other:\n",
    "            case Dual(o_value, o_d):\n",
    "                return Dual(o_value - self.value, o_d - self.d)\n",
    "            case Number():\n",
    "                return Dual(self.value - float(other), -1 * self.d)\n",
    "                \n",
    "    # унарные операции \n",
    "    def __neg__(self):\n",
    "        return Dual(-1 * self.value, -1 * self.d)\n",
    "    def __pos__(self):\n",
    "        return Dual(self.value, self.d)\n",
    "\n",
    "    # деление \n",
    "    def __truediv__(self, other: Union[\"Dual\", Number]) -> \"Dual\":\n",
    "        match other:\n",
    "            case Dual(o_value, o_d):\n",
    "                return Dual(self.value / o_value, (self.d * o_value - o_d * self.value) / o_value ** 2)\n",
    "            case Number():\n",
    "                return Dual(self.value / float(other), self.d / float(other))\n",
    "\n",
    "    def __rtruediv__(self, other: Union[\"Dual\", Number]) -> \"Dual\":\n",
    "        match other:\n",
    "            case Dual(o_value, o_d):\n",
    "                return Dual(o_value / self.value, (o_d * self.value - self.d * o_value) / self.value ** 2)\n",
    "            case Number():\n",
    "                return Dual(float(other) / self.value, -1 * self.d * float(other) / self.value ** 2)\n",
    "    \n",
    "    # возведение в степень \n",
    "    def __pow__(self, other: Number) -> \"Dual\": \n",
    "        return Dual(self.value ** float(other), self.d * float(other) * self.value ** (float(other) - 1))\n",
    "        \n",
    "    def __rpow__(self, other: Number) -> \"Dual\": \n",
    "        return Dual(float(other) ** self.value, self.d * float(other) ** self.value * math.log(float(other)))\n",
    "\n",
    "def diff(func: Callable[[float], float]) -> Callable[[float], float]:\n",
    "    return lambda x: func(Dual(x, 1.0)).d "
   ]
  },
  {
   "cell_type": "markdown",
   "metadata": {},
   "source": [
    "Поддерживаются две операции - сложение и умножение. Применить можно так:"
   ]
  },
  {
   "cell_type": "code",
   "execution_count": 40,
   "metadata": {},
   "outputs": [
    {
     "data": {
      "text/plain": [
       "22.0"
      ]
     },
     "execution_count": 40,
     "metadata": {},
     "output_type": "execute_result"
    }
   ],
   "source": [
    "# Функция, которую будем дифференцировать\n",
    "def f(x: float) -> float:\n",
    "    return 5 * x * x + 2 * x + 2\n",
    "\n",
    "f_diff = diff(f)\n",
    "\n",
    "# значение производной в точке x = 2\n",
    "f_diff(2)"
   ]
  },
  {
   "cell_type": "markdown",
   "metadata": {},
   "source": [
    "## Задание 1.1 (5 баллов)\n",
    "\n",
    "Какие недостатки вы видите в данной реализации? Реализуйте поддержку (полностью самостоятельно или модифицируя приведенный код):\n",
    "- [унарных операций](https://docs.python.org/3/reference/datamodel.html#object.__neg__) \n",
    "- деления\n",
    "- возведения в степень\n",
    "\n",
    "Каким образом можно проверить корректность решения?  Реализуйте достаточный, по вашему мнению, набор тестов."
   ]
  },
  {
   "cell_type": "code",
   "execution_count": 41,
   "metadata": {},
   "outputs": [],
   "source": [
    "# ваш код\n",
    "\n",
    "# унарные операции \n",
    "def f_neg(x: float) -> float:\n",
    "    return -x * x + 2 * x + 2\n",
    "def f_neg2(x: float) -> float:\n",
    "    return -x\n",
    "def f_pos(x: float) -> float:\n",
    "    return +x * x + 2 * x + 2\n",
    "def f_pos2(x: float) -> float:\n",
    "    return +x\n",
    "if(diff(f_neg)(2) != -2.0): print('не пройден тест 1')\n",
    "if(diff(f_neg2)(2) != -1.0): print('не пройден тест 2')\n",
    "if(diff(f_pos)(2) != 6.0): print('не пройден тест 3')\n",
    "if(diff(f_pos2)(2) != 1.0): print('не пройден тест 4')\n",
    "\n",
    "\n",
    "# деление \n",
    "def f_div1(x: float) -> float:\n",
    "    return 5 * x / x \n",
    "def f_div2(x: float) -> float:\n",
    "    return 5 / x \n",
    "def f_div3(x: float) -> float:\n",
    "    return (x + x + x * x) / x\n",
    "\n",
    "if(diff(f_div1)(2) != 0.0): print('не пройден тест 5')\n",
    "if(diff(f_div2)(2) != -1.25): print('не пройден тест 6')\n",
    "if(diff(f_div3)(2) != 1.0): print('не пройден тест 7')\n",
    "\n",
    "\n",
    "# возведение в степень \n",
    "def f_pow(x: float) -> float:\n",
    "    return x ** 5\n",
    "def f_rpow(x: float) -> float:\n",
    "    return 2 ** (5 + x)\n",
    "\n",
    "if(diff(f_pow)(2) != 80.0): print('не пройден тест 8')\n",
    "if(abs(diff(f_rpow)(2) - 88.7228) > 1e-3): print('не пройден тест 9')\n"
   ]
  },
  {
   "cell_type": "markdown",
   "metadata": {},
   "source": [
    "## Задание 1.2 (7 баллов)\n",
    "Придумайте способ и реализуйте поддержку функций:\n",
    "- `exp()`\n",
    "- `cos()`\n",
    "- `sin()`\n",
    "- `log()`\n",
    "\n",
    "Добавьте соответствующие тесты"
   ]
  },
  {
   "cell_type": "code",
   "execution_count": 42,
   "metadata": {},
   "outputs": [],
   "source": [
    "# ваш код\n",
    "def exp(value: Union[\"Dual\", Number])-> Union[\"Dual\", Number]:\n",
    "        match value:\n",
    "            case Dual(o_value, o_d):\n",
    "                return Dual(math.exp(o_value), o_d * math.exp(o_value))\n",
    "            case Number():\n",
    "                return math.exp(value)\n",
    "\n",
    "def cos(value: Union[\"Dual\", Number])-> Union[\"Dual\", Number]:\n",
    "        match value:\n",
    "            case Dual(o_value, o_d):\n",
    "                return Dual(math.cos(o_value), -1 * o_d * math.sin(o_value))\n",
    "            case Number():\n",
    "                return math.cos(value)\n",
    "\n",
    "def sin(value: Union[\"Dual\", Number])-> Union[\"Dual\", Number]:\n",
    "        match value:\n",
    "            case Dual(o_value, o_d):\n",
    "                return Dual(math.sin(o_value), o_d * math.cos(o_value))\n",
    "            case Number():\n",
    "                return math.sin(value)\n",
    "\n",
    "def log(value: Union[\"Dual\", Number])-> Union[\"Dual\", Number]:\n",
    "        match value:\n",
    "            case Dual(o_value, o_d):\n",
    "                return Dual(math.log(o_value), o_d / o_value)\n",
    "            case Number():\n",
    "                return math.log(value)\n",
    "\n",
    "def f_exp(x: float) -> float:\n",
    "    return x * exp(x ** 2)\n",
    "def f_cos(x: float) -> float:\n",
    "    return cos(2 * x)\n",
    "def f_sin(x: float) -> float:\n",
    "    return sin(1 / x)\n",
    "def f_log(x: float) -> float:\n",
    "    return log(x ** 2 + 5)\n",
    "\n",
    "if(abs(diff(f_exp)(2) - 491.383) > 1e-3): print('не пройден тест 10')\n",
    "if(abs(diff(f_cos)(2) - 1.5136) > 1e-3): print('не пройден тест 11')\n",
    "if(abs(diff(f_sin)(2) - -0.219396) > 1e-3): print('не пройден тест 12')\n",
    "if(abs(diff(f_log)(2) - 4 / 9) > 1e-3): print('не пройден тест 13')\n"
   ]
  },
  {
   "cell_type": "markdown",
   "metadata": {},
   "source": [
    "## Задание 1.3 (3 балла)\n",
    "\n",
    "Воспользуйтесь методами **численного** дифференцирования для \"проверки\" работы кода на нескольких примерах. Например,  библиотеке `scipy` есть функция `derivative`. Или реализуйте какой-нибудь метод численного дифференцирования самостоятельно (**+5 баллов**)"
   ]
  },
  {
   "cell_type": "code",
   "execution_count": 43,
   "metadata": {},
   "outputs": [
    {
     "data": {
      "text/plain": [
       "22.0"
      ]
     },
     "execution_count": 43,
     "metadata": {},
     "output_type": "execute_result"
    }
   ],
   "source": [
    "from scipy.misc import derivative\n",
    "\n",
    "def f(x: float) -> float:\n",
    "    return 5 * x * x + 2 * x + 2\n",
    "\n",
    "derivative(f, 2.)"
   ]
  },
  {
   "cell_type": "code",
   "execution_count": 44,
   "metadata": {},
   "outputs": [],
   "source": [
    "# ваш код\n",
    "\n",
    "#метод двухсторонней разности  \n",
    "def m2d(f, x_0, dx):\n",
    "    dydx = (f(x_0 + dx) - f(x_0 - dx)) / (2 * dx)\n",
    "    dx /= 2\n",
    "    new_dydx = (f(x_0 + dx) - f(x_0 - dx)) / (2 * dx)\n",
    "    while(abs(new_dydx - dydx) > 1e-7):\n",
    "        if(dx < 1e-7): break\n",
    "        dydx = new_dydx\n",
    "        dx /= 2\n",
    "        new_dydx = (f(x_0 + dx) - f(x_0 - dx)) / (2 * dx)\n",
    "    return dydx\n",
    "\n",
    "def f1(x: float) -> float:\n",
    "    return 5 * x * x + 2 * x + 2\n",
    "\n",
    "def f2(x: float) -> float:\n",
    "    return 5 * cos(x * x + 2) * x + 2 * log(exp(6 * x))\n",
    "\n",
    "def f3(x: float) -> float:\n",
    "    return exp(1/ x ** 2) / (sin(10 * x) + 2)\n",
    "    \n",
    "for x in range(1, 50):\n",
    "    if(abs(diff(f1)(x) - m2d(f1, x, 0.2)) > 1e-3): print('ошибка на f1 в точке', x)\n",
    "    if(abs(diff(f2)(x) - m2d(f2, x, 0.2)) > 1e-3): print('ошибка на f2 в точке', x)\n",
    "    if(abs(diff(f3)(x) - m2d(f3, x, 0.2)) > 1e-3): print('ошибка на f3 в точке', x)\n"
   ]
  },
  {
   "cell_type": "markdown",
   "metadata": {},
   "source": [
    "## Задание 1.4 (10 баллов)\n",
    "\n",
    "Необходимо разработать систему автоматического тестирования алгоритма дифференцирования в следующем виде:\n",
    "- реализовать механизм генерации \"случайных функций\" (например, что-то вроде такого: $f(x) = x + 5 * x - \\cos(20 * \\log(12 - 20 * x * x )) - 20 * x$ )\n",
    "- сгенерировать достаточно большое число функций и сравнить результаты символьного и численного дифференцирования в случайных точках "
   ]
  },
  {
   "cell_type": "markdown",
   "metadata": {},
   "source": [
    "Генерацию случайных функций можно осуществить, например, двумя путями. \n",
    "1. Генерировать функцию в текстовом виде, зачем использовать встроенную функцию [eval](https://docs.python.org/3/library/functions.html#eval)\n",
    "\n",
    "```python\n",
    "func = eval(\"lambda x: 2 * x + 5\")\n",
    "assert func(42) == 89 \n",
    "```\n",
    "\n",
    "2. Использовать стандартный модуль [ast](https://docs.python.org/3/library/ast.html), который позволяет во время выполнения программы манипулировать [Абстрактным Синтаксическим Деревом](https://ru.wikipedia.org/wiki/%D0%90%D0%B1%D1%81%D1%82%D1%80%D0%B0%D0%BA%D1%82%D0%BD%D0%BE%D0%B5_%D1%81%D0%B8%D0%BD%D1%82%D0%B0%D0%BA%D1%81%D0%B8%D1%87%D0%B5%D1%81%D0%BA%D0%BE%D0%B5_%D0%B4%D0%B5%D1%80%D0%B5%D0%B2%D0%BE).\n",
    "Например, выражение \n",
    "\n",
    "```python\n",
    "func = lambda x: 2 * x + 5\n",
    "```\n",
    "\n",
    "Можно запрограммировать с помощью кода:\n",
    "\n",
    "```python\n",
    "\n",
    "expr = ast.Expression(\n",
    "    body=ast.Lambda(\n",
    "        args=ast.arguments(\n",
    "            args=[\n",
    "                ast.arg(arg='x')\n",
    "            ],\n",
    "            posonlyargs=[],\n",
    "            kwonlyargs=[],\n",
    "            kw_defaults=[],\n",
    "            defaults=[]\n",
    "        ),\n",
    "        body=ast.BinOp(\n",
    "            left=ast.BinOp(\n",
    "                left=ast.Constant(value=2),\n",
    "                op=ast.Mult(),\n",
    "                right=ast.Name(id='x', ctx=ast.Load())\n",
    "            ),\n",
    "            op=ast.Add(),\n",
    "            right=ast.Constant(value=5)\n",
    "        )\n",
    "    )\n",
    ")\n",
    "\n",
    "ast.fix_missing_locations(expr)\n",
    "\n",
    "func = eval(compile(expr, filename=\"\", mode=\"eval\"))\n",
    "\n",
    "assert func(42) == 89\n",
    "```\n",
    "\n",
    "При реализации нужно учитывать области допустимых значений функций."
   ]
  },
  {
   "cell_type": "code",
   "execution_count": 45,
   "metadata": {},
   "outputs": [],
   "source": [
    "# ваш код"
   ]
  },
  {
   "cell_type": "markdown",
   "metadata": {},
   "source": [
    "## Задание 1.5 (7 баллов)\n",
    "\n",
    "Реализуйте поддержку функций нескольких аргументов. Например\n",
    "\n",
    "```python\n",
    "def f(x: float, y: float, z: float) -> float:\n",
    "    return x * y + z - 5 * y  \n",
    "\n",
    "\n",
    "f_diff = diff(f)\n",
    "\n",
    "f_diff(10, 10, 10) # = [10, 5, 1]\n",
    "```"
   ]
  },
  {
   "cell_type": "code",
   "execution_count": 48,
   "metadata": {},
   "outputs": [
    {
     "data": {
      "text/plain": [
       "[10.0, 5.0, 1.0]"
      ]
     },
     "execution_count": 48,
     "metadata": {},
     "output_type": "execute_result"
    }
   ],
   "source": [
    "# ваш код\n",
    "\n",
    "def diff(func: Callable[[float, float, float], float]):\n",
    "    return lambda x, y, z: [func(Dual(x, 1.0), y, z).d, func(x, Dual(y, 1.0), z).d, func(x, y, Dual(z, 1.0)).d]\n",
    "\n",
    "def f(x: float, y: float, z: float) -> float:\n",
    "    return x * y + z - 5.0 * y \n",
    "\n",
    "\n",
    "f_diff = diff(f)\n",
    "\n",
    "f_diff(10, 10, 10)"
   ]
  }
 ],
 "metadata": {
  "kernelspec": {
   "display_name": "Python 3",
   "language": "python",
   "name": "python3"
  },
  "language_info": {
   "codemirror_mode": {
    "name": "ipython",
    "version": 3
   },
   "file_extension": ".py",
   "mimetype": "text/x-python",
   "name": "python",
   "nbconvert_exporter": "python",
   "pygments_lexer": "ipython3",
   "version": "3.10.8"
  },
  "orig_nbformat": 4,
  "vscode": {
   "interpreter": {
    "hash": "224f0647789d1f3786e9ee82953ebb401e44092fd4a0991a2d67605141314a73"
   }
  }
 },
 "nbformat": 4,
 "nbformat_minor": 2
}
