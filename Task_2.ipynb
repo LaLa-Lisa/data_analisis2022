{
 "cells": [
  {
   "cell_type": "markdown",
   "metadata": {},
   "source": [
    "# Задание 2.\n",
    "\n",
    "**NB. Все упражнения ниже нужно делать без использования циклов Python в явном (`while`, `for`) и неявном виде (list comprehension, `map`, `reduce` и пр)**\n",
    "\n",
    "Задания по манипуляциям с массивами чаще всего решаются в одно/два выражения. "
   ]
  },
  {
   "cell_type": "code",
   "execution_count": 442,
   "metadata": {},
   "outputs": [
    {
     "data": {
      "text/plain": [
       "array([[21, 36, 87, ...,  0,  0, 36],\n",
       "       [53,  5, 38, ..., 64, 95, 69],\n",
       "       [94,  0, 50, ..., 38, 19, 46],\n",
       "       ...,\n",
       "       [54, 53, 56, ..., 82, 21, 30],\n",
       "       [97, 32, 71, ..., 15, 77, 84],\n",
       "       [16, 80, 49, ..., 81, 74, 70]])"
      ]
     },
     "execution_count": 442,
     "metadata": {},
     "output_type": "execute_result"
    }
   ],
   "source": [
    "%matplotlib inline\n",
    "\n",
    "import numpy as np\n",
    "import matplotlib.pyplot as plt\n",
    "import seaborn as sns\n",
    "sns.set_theme()\n",
    "\n",
    "A = np.random.randint(0, 100, size=(200, 50))\n",
    "A"
   ]
  },
  {
   "cell_type": "markdown",
   "metadata": {},
   "source": [
    "# Задание 2.1 (2 балла)\n",
    "\n",
    "Сгенерируйте новый массив, в котором столбцы массива `A` переставлены в случайном порядке"
   ]
  },
  {
   "cell_type": "code",
   "execution_count": 443,
   "metadata": {},
   "outputs": [
    {
     "data": {
      "text/plain": [
       "array([[ 0, 99, 88, ..., 87, 23, 31],\n",
       "       [64, 68, 57, ..., 65, 85, 79],\n",
       "       [38, 46, 73, ..., 77,  2, 43],\n",
       "       ...,\n",
       "       [82, 22, 93, ..., 80, 96, 19],\n",
       "       [15, 72, 64, ..., 53, 95, 14],\n",
       "       [81, 30, 51, ..., 33, 72, 29]])"
      ]
     },
     "execution_count": 443,
     "metadata": {},
     "output_type": "execute_result"
    }
   ],
   "source": [
    "B = A.copy()\n",
    "np.transpose(np.random.shuffle(np.transpose(B)))\n",
    "B"
   ]
  },
  {
   "cell_type": "markdown",
   "metadata": {},
   "source": [
    "# Задание 2.2 (5 баллов)\n",
    "\n",
    "Сгенерируйте новый массив, который содержит только те строки массива `A`, в которых: \n",
    "- сумма элементов по четным столбцам (индексы $0, 2, \\ldots$) больше среднего значения (по всему массиву) суммы элементов по нечетным столбцам (индексы $1, 3, \\ldots$) "
   ]
  },
  {
   "cell_type": "code",
   "execution_count": 444,
   "metadata": {},
   "outputs": [
    {
     "data": {
      "text/plain": [
       "array([[21, 36, 87, ...,  0,  0, 36],\n",
       "       [53,  5, 38, ..., 64, 95, 69],\n",
       "       [94,  0, 50, ..., 38, 19, 46],\n",
       "       ...,\n",
       "       [24, 75, 44, ...,  9, 88, 14],\n",
       "       [30,  3, 11, ..., 11, 68, 33],\n",
       "       [54, 53, 56, ..., 82, 21, 30]])"
      ]
     },
     "execution_count": 444,
     "metadata": {},
     "output_type": "execute_result"
    }
   ],
   "source": [
    "p = A[:,1::2].sum(axis=1).mean()\n",
    "C = A[A[:,::2].sum(axis=1) > p]\n",
    "C"
   ]
  },
  {
   "cell_type": "markdown",
   "metadata": {},
   "source": [
    "# Задача 2.3 (3 балла)\n",
    "\n",
    "Найдите индекс строки массива `A`, в которой разница между максимальным и минимальным элементом максимальна"
   ]
  },
  {
   "cell_type": "code",
   "execution_count": 445,
   "metadata": {},
   "outputs": [
    {
     "data": {
      "text/plain": [
       "0"
      ]
     },
     "execution_count": 445,
     "metadata": {},
     "output_type": "execute_result"
    }
   ],
   "source": [
    "np.argmax(np.amax(A, axis=1) - np.amin(A, axis=1))"
   ]
  },
  {
   "cell_type": "markdown",
   "metadata": {},
   "source": [
    "# Задание 2.4 (7 баллов)\n",
    "\n",
    "Сгенерируйте массив той же размерности, что и `A`, но в котором каждый элемент заменен на его порядковый номер (начиная с 1) в отсортированном по возрастанию массиве из элементов `A`\n",
    "\n",
    "Если `A` выглядит так:\n",
    "$$\n",
    "\\begin{pmatrix}\n",
    "12 & 14\\\\\n",
    "1 & 2\n",
    "\\end{pmatrix}\n",
    "$$\n",
    "то результат должен быть\n",
    "$$\n",
    "\\begin{pmatrix}\n",
    "3 & 4\\\\\n",
    "1 & 2\n",
    "\\end{pmatrix}\n",
    "$$\n",
    "\n",
    "*Tip: рассмотрите возможность неоднократного применения [argsort()](https://numpy.org/doc/stable/reference/generated/numpy.ndarray.argsort.html)*"
   ]
  },
  {
   "cell_type": "code",
   "execution_count": 446,
   "metadata": {},
   "outputs": [
    {
     "data": {
      "text/plain": [
       "array([[2122, 3663, 8793, ...,   95,   94, 3682],\n",
       "       [5379,  619, 3873, ..., 6494, 9559, 7003],\n",
       "       [9422,   32, 5134, ..., 3970, 1995, 4755],\n",
       "       ...,\n",
       "       [5522, 5406, 5751, ..., 8266, 2115, 3073],\n",
       "       [9770, 3265, 7138, ..., 1549, 7808, 8455],\n",
       "       [1670, 8029, 5036, ..., 8204, 7498, 7063]], dtype=int64)"
      ]
     },
     "execution_count": 446,
     "metadata": {},
     "output_type": "execute_result"
    }
   ],
   "source": [
    "n = np.shape(A)[0]\n",
    "m = np.shape(A)[1]\n",
    "E =  np.argsort(np.argsort(A.reshape(m * n))).reshape(n, m) + 1\n",
    "E"
   ]
  },
  {
   "cell_type": "markdown",
   "metadata": {},
   "source": [
    "# Задание 2.5 (2 балла)\n",
    "\n",
    "Примените $\\min-\\max$ - нормализацию к строкам массива `A`. То есть нужно получить новый массивы, в каждой строке которого максимальный элементы равен $1$, минимальный - $0$. "
   ]
  },
  {
   "cell_type": "code",
   "execution_count": 447,
   "metadata": {},
   "outputs": [
    {
     "data": {
      "text/plain": [
       "array([[0.21212121, 0.36363636, 0.87878788, ..., 0.        , 0.        ,\n",
       "        0.36363636],\n",
       "       [0.53535354, 0.05050505, 0.38383838, ..., 0.64646465, 0.95959596,\n",
       "        0.6969697 ],\n",
       "       [0.94949495, 0.        , 0.50505051, ..., 0.38383838, 0.19191919,\n",
       "        0.46464646],\n",
       "       ...,\n",
       "       [0.54545455, 0.53535354, 0.56565657, ..., 0.82828283, 0.21212121,\n",
       "        0.3030303 ],\n",
       "       [0.97979798, 0.32323232, 0.71717172, ..., 0.15151515, 0.77777778,\n",
       "        0.84848485],\n",
       "       [0.16161616, 0.80808081, 0.49494949, ..., 0.81818182, 0.74747475,\n",
       "        0.70707071]])"
      ]
     },
     "execution_count": 447,
     "metadata": {},
     "output_type": "execute_result"
    }
   ],
   "source": [
    "max_e = np.amax(A)\n",
    "min_e = np.amin(A)\n",
    "F = (A - min_e) / (max_e - min_e)\n",
    "F"
   ]
  },
  {
   "cell_type": "markdown",
   "metadata": {},
   "source": [
    "# Задание 2.6 (2 балла)\n",
    "\n",
    "Сгенерируйте новый трехмерный массив, размерности $10 \\times 200 \\times 50$. Подмассивы по нулевой оси должны состоять из элементов `A`, умноженных на $1 - 10$ соответственно"
   ]
  },
  {
   "cell_type": "code",
   "execution_count": 448,
   "metadata": {},
   "outputs": [
    {
     "data": {
      "text/plain": [
       "array([[[ 21.,  36.,  87., ...,   0.,   0.,  36.],\n",
       "        [ 53.,   5.,  38., ...,  64.,  95.,  69.],\n",
       "        [ 94.,   0.,  50., ...,  38.,  19.,  46.],\n",
       "        ...,\n",
       "        [ 54.,  53.,  56., ...,  82.,  21.,  30.],\n",
       "        [ 97.,  32.,  71., ...,  15.,  77.,  84.],\n",
       "        [ 16.,  80.,  49., ...,  81.,  74.,  70.]],\n",
       "\n",
       "       [[ 42.,  72., 174., ...,   0.,   0.,  72.],\n",
       "        [106.,  10.,  76., ..., 128., 190., 138.],\n",
       "        [188.,   0., 100., ...,  76.,  38.,  92.],\n",
       "        ...,\n",
       "        [108., 106., 112., ..., 164.,  42.,  60.],\n",
       "        [194.,  64., 142., ...,  30., 154., 168.],\n",
       "        [ 32., 160.,  98., ..., 162., 148., 140.]],\n",
       "\n",
       "       [[ 63., 108., 261., ...,   0.,   0., 108.],\n",
       "        [159.,  15., 114., ..., 192., 285., 207.],\n",
       "        [282.,   0., 150., ..., 114.,  57., 138.],\n",
       "        ...,\n",
       "        [162., 159., 168., ..., 246.,  63.,  90.],\n",
       "        [291.,  96., 213., ...,  45., 231., 252.],\n",
       "        [ 48., 240., 147., ..., 243., 222., 210.]],\n",
       "\n",
       "       ...,\n",
       "\n",
       "       [[168., 288., 696., ...,   0.,   0., 288.],\n",
       "        [424.,  40., 304., ..., 512., 760., 552.],\n",
       "        [752.,   0., 400., ..., 304., 152., 368.],\n",
       "        ...,\n",
       "        [432., 424., 448., ..., 656., 168., 240.],\n",
       "        [776., 256., 568., ..., 120., 616., 672.],\n",
       "        [128., 640., 392., ..., 648., 592., 560.]],\n",
       "\n",
       "       [[189., 324., 783., ...,   0.,   0., 324.],\n",
       "        [477.,  45., 342., ..., 576., 855., 621.],\n",
       "        [846.,   0., 450., ..., 342., 171., 414.],\n",
       "        ...,\n",
       "        [486., 477., 504., ..., 738., 189., 270.],\n",
       "        [873., 288., 639., ..., 135., 693., 756.],\n",
       "        [144., 720., 441., ..., 729., 666., 630.]],\n",
       "\n",
       "       [[210., 360., 870., ...,   0.,   0., 360.],\n",
       "        [530.,  50., 380., ..., 640., 950., 690.],\n",
       "        [940.,   0., 500., ..., 380., 190., 460.],\n",
       "        ...,\n",
       "        [540., 530., 560., ..., 820., 210., 300.],\n",
       "        [970., 320., 710., ..., 150., 770., 840.],\n",
       "        [160., 800., 490., ..., 810., 740., 700.]]])"
      ]
     },
     "execution_count": 448,
     "metadata": {},
     "output_type": "execute_result"
    }
   ],
   "source": [
    "n = np.shape(A)[0]\n",
    "m = np.shape(A)[1]\n",
    "x1 = np.ones((10, n * m))\n",
    "x2 = (np.arange(10) + 1).reshape(10, 1)\n",
    "G = A * (x1 * x2).reshape(10, n, m)\n",
    "G"
   ]
  },
  {
   "cell_type": "markdown",
   "metadata": {},
   "source": [
    "# Задание 2.7 (2 балла)\n",
    "\n",
    "Создайте новый массив, такой же размерности, как и `A`, в котором сначала сгруппированы четные столбцы `A`, потом  нечетные. Используйте [np.concat()](https://numpy.org/doc/stable/reference/generated/numpy.concatenate.html) "
   ]
  },
  {
   "cell_type": "code",
   "execution_count": 449,
   "metadata": {},
   "outputs": [
    {
     "data": {
      "text/plain": [
       "array([[21, 87, 88, ..., 28,  0, 36],\n",
       "       [53, 38, 79, ..., 41, 64, 69],\n",
       "       [94, 50, 34, ..., 54, 38, 46],\n",
       "       ...,\n",
       "       [54, 56, 58, ..., 48, 82, 30],\n",
       "       [97, 71, 24, ..., 78, 15, 84],\n",
       "       [16, 49, 26, ..., 98, 81, 70]])"
      ]
     },
     "execution_count": 449,
     "metadata": {},
     "output_type": "execute_result"
    }
   ],
   "source": [
    "even = A[:,::2]\n",
    "odd = A[:,1::2]\n",
    "H = np.concatenate((even, odd), axis=1)\n",
    "H"
   ]
  },
  {
   "cell_type": "markdown",
   "metadata": {},
   "source": [
    "# Задание 2.8 (2 балла)\n",
    "\n",
    "Посчитайте количество строк массива `A`, в который все элементы больше 5. Используйте [np.all()](https://numpy.org/doc/stable/reference/generated/numpy.all.html) "
   ]
  },
  {
   "cell_type": "code",
   "execution_count": 450,
   "metadata": {},
   "outputs": [
    {
     "data": {
      "text/plain": [
       "6"
      ]
     },
     "execution_count": 450,
     "metadata": {},
     "output_type": "execute_result"
    }
   ],
   "source": [
    "np.all(A > 5, axis=1).sum()"
   ]
  },
  {
   "cell_type": "markdown",
   "metadata": {},
   "source": [
    "# Задание 2.9 (2 балла)\n",
    "\n",
    "Поделите массив `A` горизонтально на 10 частей и создайте новый массив размерности $20 \\times 50$, который является средним этих частей. Используйте [np.split()](https://numpy.org/doc/stable/reference/generated/numpy.split.html)"
   ]
  },
  {
   "cell_type": "code",
   "execution_count": 483,
   "metadata": {},
   "outputs": [
    {
     "data": {
      "text/plain": [
       "array([[46.3, 36.5, 57.8, 56. , 55.5, 60.5, 50.4, 55.4, 50.9, 55.3, 53.7,\n",
       "        39.1, 63.5, 56.1, 50.1, 46.1, 63.9, 57.9, 39.3, 52.8, 53.9, 55.8,\n",
       "        51.2, 38.7, 51.4, 51.8, 57.9, 52.8, 51.9, 54.7, 39.2, 60.8, 27.8,\n",
       "        64.4, 69.1, 52.9, 32.7, 52.9, 57.4, 55.6, 61.4, 59.2, 38. , 48.7,\n",
       "        50.2, 40.5, 57.7, 49.5, 47.1, 56.5],\n",
       "       [54.6, 52. , 54.8, 47.1, 30.7, 34.9, 62.1, 45.8, 59.2, 37.4, 43.8,\n",
       "        29. , 49.7, 61.4, 38.3, 60.5, 58. , 46. , 42.6, 48.7, 57.6, 39.3,\n",
       "        37.8, 46.3, 55.5, 58.7, 46. , 38.6, 59.5, 50.1, 50.5, 47.1, 48.1,\n",
       "        50.5, 45.3, 49.8, 45.2, 61.1, 46.4, 39.4, 54.2, 56.5, 49.6, 37. ,\n",
       "        50.1, 38.7, 57.5, 49. , 46.8, 52.5],\n",
       "       [46.5, 48.3, 54.8, 34.5, 59.5, 46.8, 52.1, 56.3, 53.3, 43.1, 69. ,\n",
       "        43.7, 51. , 36.3, 45. , 58.1, 46.7, 49.8, 47.1, 59.3, 54.8, 56.8,\n",
       "        60.7, 56.9, 65.6, 55.3, 49.3, 47.4, 40.8, 44.8, 49.6, 57.7, 41.2,\n",
       "        40.1, 46. , 72.6, 49.8, 46.4, 46. , 50.1, 38.9, 36.4, 57.4, 69.2,\n",
       "        50.2, 58.9, 47.2, 58.1, 48.8, 44.8],\n",
       "       [62.9, 47.7, 38.5, 60.9, 50.5, 51.8, 52. , 51.2, 59.1, 55.3, 42. ,\n",
       "        46.6, 53.3, 45.2, 43.6, 64.9, 46.6, 51. , 44.5, 61.6, 66.4, 32.7,\n",
       "        64. , 43.3, 45.2, 48.9, 62.5, 50.5, 37.1, 47.4, 56.3, 42. , 58.7,\n",
       "        22. , 46. , 66.7, 40.2, 39.9, 59.1, 48.9, 66.4, 43.8, 58.5, 52.3,\n",
       "        53.4, 42. , 41.1, 62.6, 39.9, 56. ],\n",
       "       [54.8, 63.7, 52.9, 53.9, 50.7, 43.2, 41.5, 42.6, 57.5, 37.6, 62. ,\n",
       "        39.5, 59.5, 67.7, 40.8, 46.9, 22.7, 32.3, 39.3, 65.3, 52.6, 42. ,\n",
       "        63.8, 38.2, 62.1, 51. , 44.7, 60.4, 29.4, 33.1, 64.1, 47.7, 49.6,\n",
       "        31.5, 36.6, 39.9, 36.5, 45.6, 40.4, 42.4, 64.7, 44.3, 59.6, 39.2,\n",
       "        52.8, 59.7, 43.5, 52.7, 38.8, 68. ],\n",
       "       [39.7, 53.7, 42.6, 55.7, 49.2, 47.8, 53. , 51.9, 53.5, 56.4, 49.7,\n",
       "        53.5, 44.5, 46.8, 61. , 44.1, 51.7, 43.2, 67. , 51. , 62.4, 53.3,\n",
       "        37. , 46.9, 52.3, 60.7, 57.9, 41.2, 35.7, 43.8, 50. , 52.2, 56.7,\n",
       "        36.2, 42.3, 43.2, 51.8, 46.2, 46.2, 43.6, 44.8, 49.9, 43.4, 44.8,\n",
       "        59.6, 37.9, 56.7, 62.9, 56.9, 66.8],\n",
       "       [54.6, 52.6, 55. , 50.6, 58.4, 53. , 53.6, 46.2, 50. , 65.5, 42.5,\n",
       "        65.3, 57.3, 49.4, 45.2, 52.7, 49.5, 31.7, 48. , 48.9, 46. , 47.9,\n",
       "        64.2, 60.8, 51.4, 54.1, 61.6, 49. , 58.8, 42.5, 63.1, 61.4, 43.8,\n",
       "        42. , 36.6, 41.9, 40.6, 47.8, 42.2, 51.6, 56. , 53.7, 50.6, 33.3,\n",
       "        39.5, 56.4, 59.5, 42.4, 42.1, 51. ],\n",
       "       [45.4, 64.2, 49.2, 53.8, 56.4, 42.5, 53.3, 42. , 41.7, 54.9, 50.2,\n",
       "        39.3, 61.8, 44. , 43.2, 40.4, 46.5, 28.9, 44.1, 48. , 48.5, 61.9,\n",
       "        47.4, 60.3, 50.7, 45.8, 58.7, 39.9, 43.6, 64.4, 50.6, 48.7, 45.9,\n",
       "        51. , 42. , 42.9, 48.3, 46.3, 57.9, 46.9, 54.6, 55.1, 42.2, 54.6,\n",
       "        44.7, 41.2, 55.3, 35.7, 53.2, 61.2],\n",
       "       [49.3, 56.2, 32.2, 55.6, 30.6, 41.4, 47.6, 38.5, 57.5, 51. , 34.3,\n",
       "        50.9, 56.9, 47.7, 39.1, 48.6, 40.8, 48.7, 53.8, 49.2, 51.5, 45. ,\n",
       "        52. , 45.2, 41.7, 45.6, 45.1, 53.1, 41.5, 55.9, 39.5, 47.5, 61. ,\n",
       "        55. , 66.3, 40.1, 58.4, 38.8, 62.7, 48. , 38.5, 60. , 44.2, 35.4,\n",
       "        71.2, 50.2, 36.6, 47.3, 46. , 54.3],\n",
       "       [40.1, 36.2, 58.5, 39. , 43.4, 58.1, 48.8, 55.4, 52.6, 57.9, 58.1,\n",
       "        47. , 66.8, 52.1, 40.8, 41.4, 55. , 74.2, 47.9, 57.2, 57.5, 52.6,\n",
       "        43.8, 54.3, 50. , 37.3, 43. , 20.6, 31.8, 62.5, 32.9, 38.9, 47.6,\n",
       "        28.5, 47.8, 40.7, 54.7, 46.2, 39.6, 38.4, 66.2, 44.7, 46.1, 54.6,\n",
       "        44.5, 51.9, 34. , 49.9, 63.1, 40.6],\n",
       "       [39. , 66.4, 43.7, 60.6, 58.7, 42.1, 43.5, 45.6, 53. , 54.9, 55.1,\n",
       "        52.2, 43.4, 56.7, 35.9, 36.3, 61. , 50.3, 44.2, 60.8, 51.6, 63.5,\n",
       "        55.8, 50.3, 62.9, 70.6, 54.5, 45.5, 36.7, 50.8, 54.9, 56.5, 53. ,\n",
       "        44.5, 38.2, 58.3, 34.4, 41.4, 34.6, 49.7, 47.7, 35.7, 52.9, 52.6,\n",
       "        54.8, 46.8, 49.4, 46.4, 49.8, 52.2],\n",
       "       [48. , 51.8, 47.8, 47.6, 68.5, 48.6, 45.1, 56.8, 36.4, 48.9, 58. ,\n",
       "        46.7, 55.1, 57.7, 45. , 48.2, 47.8, 45.6, 59.8, 42.8, 55.9, 49.3,\n",
       "        51. , 47.3, 55.1, 55.7, 47.7, 52.4, 68.3, 48.3, 40.5, 47.8, 60.2,\n",
       "        52.6, 57.5, 64.6, 40.7, 61.6, 60.9, 56.9, 50.6, 61.2, 54.1, 44.5,\n",
       "        49.1, 64.5, 45.3, 57.2, 37.6, 31.3],\n",
       "       [45.7, 53. , 42.8, 54.1, 48. , 49.6, 47.8, 49.6, 59.2, 52.4, 47. ,\n",
       "        47.8, 50.8, 53.4, 58.2, 57.1, 65.6, 48.5, 50.5, 51. , 53.2, 49.7,\n",
       "        54.7, 55. , 49.7, 30.9, 39.4, 59.8, 55.9, 41.4, 53.6, 44.6, 41. ,\n",
       "        43. , 32.9, 57.1, 40.5, 42.3, 53.8, 53.2, 43. , 56.9, 59. , 45.9,\n",
       "        47.6, 63.1, 55.4, 54.8, 62.4, 60.2],\n",
       "       [53.2, 46.9, 50.7, 54.3, 34.1, 29.4, 47.7, 42.4, 35.9, 35.7, 46.5,\n",
       "        47.5, 33.3, 42.5, 36.2, 32.4, 54. , 41.6, 34.4, 61.3, 49.5, 36.9,\n",
       "        52.5, 65.2, 50.4, 43. , 55.2, 34.2, 45.5, 36.8, 55.7, 47.3, 45.7,\n",
       "        21.1, 47.8, 71.2, 43.8, 48.6, 54.1, 52.1, 37.6, 59.1, 35.2, 45.4,\n",
       "        37.9, 74.3, 38. , 45.5, 43.3, 53.9],\n",
       "       [41.3, 56.3, 49.9, 57.8, 49.9, 37.6, 62.7, 26.4, 41.8, 65.8, 26.5,\n",
       "        59.8, 58.2, 47.2, 64.4, 48.9, 46.4, 56.5, 53.7, 49.6, 54.9, 57.5,\n",
       "        51.5, 57.7, 48.3, 40.1, 43.2, 52.2, 42.9, 28.5, 52.3, 50.5, 58.3,\n",
       "        43.7, 61.6, 34. , 42.3, 53.1, 47.7, 59.3, 48.1, 56.9, 41.1, 40.3,\n",
       "        60.2, 48.7, 38.5, 68.9, 51.4, 54.5],\n",
       "       [47.4, 69.1, 56.7, 61.9, 45.8, 42.9, 52.1, 40.5, 40.8, 40.6, 51.4,\n",
       "        44.2, 47.1, 59.2, 50. , 49.5, 46.1, 44.7, 51.4, 60.4, 49. , 43.6,\n",
       "        47.9, 40.7, 50.2, 39. , 55.6, 50.6, 49.3, 51.1, 57.2, 40.6, 42.1,\n",
       "        47.4, 41.7, 54.2, 67.7, 50.3, 63.4, 41.6, 53.6, 55.7, 43.4, 45.4,\n",
       "        52.1, 41.4, 40.9, 47.9, 41.5, 49. ],\n",
       "       [46.3, 51.8, 39.5, 53.4, 56.4, 48.7, 41.1, 45.3, 38.5, 47.5, 51.6,\n",
       "        57.6, 49.3, 44.8, 48.7, 50.2, 34.2, 43.3, 52. , 54. , 47.9, 46.5,\n",
       "        50. , 47.1, 34.6, 46.4, 52.5, 36.4, 45.2, 43.8, 57.5, 62.3, 55.3,\n",
       "        37.3, 39.3, 56.5, 25.1, 55.6, 48.1, 57.4, 39.6, 57.8, 33.2, 33.8,\n",
       "        40.7, 32.9, 61.3, 52.7, 45.1, 52.2],\n",
       "       [55.6, 58.5, 41. , 45.2, 52.9, 52.7, 45. , 44.9, 45.8, 48.5, 50.9,\n",
       "        46.6, 64.1, 49.4, 37. , 51. , 41.7, 54.3, 43.9, 46.7, 61.5, 41.9,\n",
       "        57. , 47.2, 43. , 51.6, 66.8, 49.1, 45.1, 46.3, 55.4, 48.8, 42.1,\n",
       "        30.4, 55.2, 42.5, 52. , 60.8, 50.2, 60.1, 53.7, 50.8, 59.4, 46.9,\n",
       "        56.3, 55.7, 46.2, 49.3, 32.7, 29.5],\n",
       "       [31.8, 50.6, 45.5, 47.5, 52.8, 49. , 44.7, 54.5, 51.9, 55.4, 43.8,\n",
       "        49.2, 55.2, 40.2, 50. , 48.8, 48.8, 66.9, 45.4, 41.9, 42.2, 45. ,\n",
       "        42.7, 34.4, 31.4, 46.8, 50.8, 43. , 49.1, 58.7, 62.8, 53.5, 44.6,\n",
       "        25.6, 40.8, 56.7, 42.4, 36.9, 43.6, 48.5, 35.2, 58.3, 47.3, 35.1,\n",
       "        48.4, 62.4, 45.3, 47.7, 47.1, 55.1],\n",
       "       [54.4, 63.5, 54.6, 54.5, 44.3, 44.6, 47.3, 39.8, 42.4, 43.2, 47.4,\n",
       "        50.7, 54.1, 58.4, 43.3, 22.7, 55.6, 54.7, 50.7, 55.6, 46.3, 48.5,\n",
       "        67.9, 53.3, 54.7, 40.5, 41.2, 52.6, 38.5, 33.2, 49.2, 54.3, 41.6,\n",
       "        47.6, 40.2, 50.5, 43.1, 42.6, 50.5, 38. , 49.9, 53.4, 58.4, 46.4,\n",
       "        47. , 48.1, 46.9, 55.4, 31.9, 53.7]])"
      ]
     },
     "execution_count": 483,
     "metadata": {},
     "output_type": "execute_result"
    }
   ],
   "source": [
    "np.mean(np.split(A, 10), axis=0)"
   ]
  },
  {
   "cell_type": "markdown",
   "metadata": {},
   "source": [
    "# Задание 2.10 (4 балла)\n",
    "\n",
    "\"Разверните\" массив `A` в одномерный массив. Оставьте в нём только уникальные элементы в том же порядке, в котором они встречаются в массиве. Используйте [np.unique()](https://numpy.org/doc/stable/reference/generated/numpy.unique.html)"
   ]
  },
  {
   "cell_type": "code",
   "execution_count": 452,
   "metadata": {},
   "outputs": [
    {
     "data": {
      "text/plain": [
       "array([21, 36, 87, 70, 88, 12, 58, 65, 39, 46, 81, 37, 25, 77, 72,  9, 20,\n",
       "       80, 69, 79, 47, 64, 82, 99, 49, 29, 19, 14, 32, 57, 31, 74, 23, 35,\n",
       "       75, 55, 28, 34,  0, 53,  5, 38, 17,  4, 42,  1, 41, 11, 91, 84, 68,\n",
       "        6,  3, 76, 52, 78, 15, 13, 85, 48, 95, 94, 50, 93, 98, 73, 10, 43,\n",
       "       59,  2, 62, 67, 27, 86, 51, 54, 56, 60, 30, 24, 40, 26, 66, 61, 96,\n",
       "       16, 83, 33, 71, 18, 44, 89, 90, 45, 97,  8, 22, 92, 63,  7])"
      ]
     },
     "execution_count": 452,
     "metadata": {},
     "output_type": "execute_result"
    }
   ],
   "source": [
    "_, ind = np.unique(A.reshape(np.size(A)), return_index=True)\n",
    "J = A.reshape(np.size(A))[np.sort(ind)]\n",
    "J"
   ]
  },
  {
   "cell_type": "markdown",
   "metadata": {},
   "source": [
    "# Задание 2.11 (3 балла)\n",
    "\n",
    "Создайте одномерный массив размерности $200$, в котором каждый элемент - евклидово расстояние между соответствующей строкой `A` и \"средней\" строкой `A`"
   ]
  },
  {
   "cell_type": "code",
   "execution_count": 453,
   "metadata": {},
   "outputs": [
    {
     "data": {
      "text/plain": [
       "array([240.62418831, 268.97955313, 264.97547056, 307.97077783,\n",
       "       254.21054266, 248.45321491, 310.04677067, 257.32469761,\n",
       "       280.16245287, 287.45260479, 299.79993329, 298.21804104,\n",
       "       298.66536458, 287.36910064, 280.38009915, 298.99163868,\n",
       "       272.28294107, 304.95245531, 255.20971768, 311.53651471,\n",
       "       334.46076003, 257.80806814, 272.51972406, 280.45498748,\n",
       "       262.03053257, 300.87040399, 213.46662503, 292.87881453,\n",
       "       308.12010645, 323.68194265, 271.57687678, 273.47577589,\n",
       "       279.94463738, 297.63400343, 296.80970335, 317.54369778,\n",
       "       269.64050141, 297.64072302, 284.89998245, 292.00171232,\n",
       "       294.29746856, 288.17529388, 312.64196775, 285.67989079,\n",
       "       263.61714664, 262.72609311, 259.27591481, 268.25174743,\n",
       "       306.13885738, 314.95396489, 279.4888191 , 278.84404243,\n",
       "       249.06826374, 315.24434967, 285.91257405, 257.40435117,\n",
       "       300.58443073, 246.3331078 , 255.12741915, 285.21570784,\n",
       "       287.66994977, 311.57503109, 298.25995373, 265.79503381,\n",
       "       302.98184764, 309.59812661, 296.24651897, 288.2759095 ,\n",
       "       226.60759034, 253.95668922, 265.10941138, 267.46401627,\n",
       "       255.83393051, 280.18565274, 273.5781424 , 282.93815579,\n",
       "       290.09308851, 304.63913078, 303.89471861, 305.63867556,\n",
       "       309.26202483, 236.30277188, 255.69708641, 293.27802509,\n",
       "       332.46353183, 234.30749028, 288.67802133, 279.29554239,\n",
       "       287.09928596, 298.03187749, 290.64067162, 259.33376178,\n",
       "       277.84528069, 261.85683111, 297.02693481, 307.77751705,\n",
       "       248.72072692, 313.66064465, 265.84581998, 324.82918588,\n",
       "         0.        , 282.94169011, 296.12497362, 305.74499178,\n",
       "       306.28744669, 307.25233929, 275.45235523, 287.60910973,\n",
       "       303.9703933 , 285.74464124, 325.04615057, 284.20767055,\n",
       "       301.24574686, 258.73538606, 308.11523818, 315.7879035 ,\n",
       "       283.1519027 , 318.64714027, 276.30418021, 290.21888291,\n",
       "       251.9285613 , 277.89206538, 335.06715745, 290.67679646,\n",
       "       278.61263432, 286.53272064, 305.15242093, 300.51788632,\n",
       "       300.73243922, 258.59040972, 273.71883384, 325.23837412,\n",
       "       315.10157093, 288.85290374, 299.11870553, 310.97105975,\n",
       "       297.07743098, 266.6270804 , 279.94285131, 268.49953445,\n",
       "       285.16135783, 260.3440032 , 267.84510449, 282.66057383,\n",
       "       294.55389999, 314.57113663, 295.28799502, 295.09659436,\n",
       "       282.75961522, 256.67099563, 255.54256006, 285.92306658,\n",
       "       292.37817976, 334.56538972, 293.60006812, 281.41606209,\n",
       "       277.80028798, 296.74905223, 299.2707804 , 280.84871372,\n",
       "       273.42823556, 307.46869759, 281.38940989, 293.73287184,\n",
       "       299.62476533, 284.38881835, 314.83328922, 267.52196172,\n",
       "       331.81621419, 314.84440602, 275.80790417, 294.19041453,\n",
       "       247.13761349, 321.16506659, 322.71349522, 257.58299633,\n",
       "       289.61698845, 284.3729945 , 251.81143739, 254.72730517,\n",
       "       321.98447168, 266.02819399, 301.26566349, 260.58012204,\n",
       "       343.2870519 , 281.74811446, 263.32679317, 296.37644981,\n",
       "       262.80601211, 300.3531255 , 260.13073636, 314.54252495,\n",
       "       302.00496685, 286.70193581, 259.27591481, 298.96488088,\n",
       "       276.3494165 , 279.4566156 , 295.02372786, 270.495841  ])"
      ]
     },
     "execution_count": 453,
     "metadata": {},
     "output_type": "execute_result"
    }
   ],
   "source": [
    "def dist(x):\n",
    "    str_m = A[int(np.shape(A)[0] / 2), :]\n",
    "    return (((x - str_m) ** 2).sum()) ** 0.5\n",
    "\n",
    "\n",
    "K = np.apply_along_axis(dist, 1, A)\n",
    "K"
   ]
  },
  {
   "cell_type": "markdown",
   "metadata": {},
   "source": [
    "# Задание 2.12 (2 балла)\n",
    "\n",
    "Создайте новый массив, который состоит из элементов `A`, измененных по следующим правилам:\n",
    "- если элемент меньше $50$, то он умножается на $2$\n",
    "- в противном случае он умножается на $3$\n",
    "\n",
    "Используйте [np.where()](https://numpy.org/doc/stable/reference/generated/numpy.where.html)"
   ]
  },
  {
   "cell_type": "code",
   "execution_count": 454,
   "metadata": {},
   "outputs": [
    {
     "data": {
      "text/plain": [
       "array([[ 42,  72, 261, ...,   0,   0,  72],\n",
       "       [159,  10,  76, ..., 192, 285, 207],\n",
       "       [282,   0, 150, ...,  76,  38,  92],\n",
       "       ...,\n",
       "       [162, 159, 168, ..., 246,  42,  60],\n",
       "       [291,  64, 213, ...,  30, 231, 252],\n",
       "       [ 32, 240,  98, ..., 243, 222, 210]])"
      ]
     },
     "execution_count": 454,
     "metadata": {},
     "output_type": "execute_result"
    }
   ],
   "source": [
    "np.where(A < 50, A * 2, A * 3)"
   ]
  },
  {
   "cell_type": "markdown",
   "metadata": {},
   "source": [
    "# Задание 2.13 (7 баллов)\n",
    "\n",
    "Разверните массив `A` в одномерный массив. Создайте три новых массива, подсчитав скользящие средние по окнам $3$, $5$, $10$. Найдите сумму этих массивов, выровнив из размерности нулями справа\n",
    "\n",
    "*Tip: реализуйте функцию, которая считает скользящее среднее. Используйте [np.cumsum()](https://numpy.org/doc/stable/reference/generated/numpy.cumsum.html) или [np.convolve()](https://numpy.org/doc/stable/reference/generated/numpy.convolve.html)*"
   ]
  },
  {
   "cell_type": "code",
   "execution_count": 455,
   "metadata": {},
   "outputs": [
    {
     "data": {
      "text/plain": [
       "array([164.8       , 201.13333333, 214.66666667, ...,  75.        ,\n",
       "         0.        ,   0.        ])"
      ]
     },
     "execution_count": 455,
     "metadata": {},
     "output_type": "execute_result"
    }
   ],
   "source": [
    "def moving_average(x, n) :\n",
    "    a = np.cumsum(x)\n",
    "    a[n:] = a[n:] - a[:-n]\n",
    "    return a[n - 1:] / n\n",
    "\n",
    "a_size = np.size(A)\n",
    "M = A.reshape(a_size)\n",
    "\n",
    "M3 = np.zeros(a_size)\n",
    "M5 = np.zeros(a_size)\n",
    "M10 = np.zeros(a_size)\n",
    "M3[:a_size - 2] = moving_average(M, 3)\n",
    "M5[:a_size - 4] = moving_average(M, 5)\n",
    "M10[:a_size - 9] = moving_average(M, 10)\n",
    "\n",
    "N = M3 + M5 + M10\n",
    "N"
   ]
  },
  {
   "cell_type": "markdown",
   "metadata": {},
   "source": [
    "# Задание 2.14 (8 баллов)\n",
    "\n",
    "Постройте график функции $$f(x) = (5  \\sin(2x) - \\cos^2(x) - 1 + |x^3| - x^2) / (x^2 + 1)$$  \n",
    "\n",
    "и производной от этой функции.  Найдите минимум с помощью `scipy` и обозначьте его на графике. На этой же оси постройте графики скользящего среднего этой функции с окном $1$, $2$, $5$."
   ]
  },
  {
   "cell_type": "code",
   "execution_count": 456,
   "metadata": {},
   "outputs": [
    {
     "data": {
      "image/png": "[encoded data removed]",
      "text/plain": [
       "<Figure size 432x288 with 1 Axes>"
      ]
     },
     "metadata": {},
     "output_type": "display_data"
    },
    {
     "data": {
      "image/png": "[encoded data removed]",
      "text/plain": [
       "<Figure size 432x288 with 1 Axes>"
      ]
     },
     "metadata": {},
     "output_type": "display_data"
    },
    {
     "data": {
      "image/png": "[encoded data removed]",
      "text/plain": [
       "<Figure size 432x288 with 1 Axes>"
      ]
     },
     "metadata": {},
     "output_type": "display_data"
    }
   ],
   "source": [
    "import matplotlib.pyplot as plt\n",
    "from scipy.optimize import minimize\n",
    "\n",
    "def f(x):\n",
    "    return (5 * np.sin(2 * x)  -np.cos(x) ** 2 - 1 + abs(x ** 3) - x ** 2) / (x ** 2 + 1)\n",
    "\n",
    "x = np.linspace(-10, 10, 10000)\n",
    "dx = x[1]-x[0]\n",
    "y = f(x)\n",
    "dydx = np.gradient(y, dx)\n",
    "\n",
    "x_min = minimize(f, 0).x[0]\n",
    "\n",
    "plt.plot(x, y)\n",
    "plt.scatter(x_min, f(x_min), color = 'red')\n",
    "plt.title('f(x)')\n",
    "plt.show()\n",
    "plt.plot(x, dydx)\n",
    "plt.scatter(x_min, 0, color = 'red')\n",
    "plt.title('derivative')\n",
    "plt.show()\n",
    "\n",
    "plt.plot(x, moving_average(y, 1))\n",
    "plt.plot(x[:-1], moving_average(y, 2))\n",
    "plt.plot(x[:-4], moving_average(y, 5))\n",
    "plt.legend(['1', '2', '5'])\n",
    "plt.title('moving average')\n",
    "plt.show()\n"
   ]
  },
  {
   "cell_type": "markdown",
   "metadata": {},
   "source": [
    "# Задание 2.15 (10 баллов)\n",
    "\n",
    "Есть следующий алгоритм семплинирования, на вход функции подается вектор из целых положительных чисел и число семплов."
   ]
  },
  {
   "cell_type": "code",
   "execution_count": 457,
   "metadata": {},
   "outputs": [
    {
     "data": {
      "text/plain": [
       "[0, 3, 0, 0, 0]"
      ]
     },
     "execution_count": 457,
     "metadata": {},
     "output_type": "execute_result"
    }
   ],
   "source": [
    "from typing import List \n",
    "\n",
    "def sample(x: List[int], c: int) -> List[int]:\n",
    "    assert len(x) > 0\n",
    "    \n",
    "    s = np.sum(x)\n",
    "    res = []\n",
    "    for _ in range(c):\n",
    "        val = s * np.random.random()\n",
    "        cur, idx = 0, 0        \n",
    "        while cur + x[idx] <= val:\n",
    "            cur += x[idx]\n",
    "            idx += 1\n",
    "            \n",
    "        res.append(idx)\n",
    "    return res\n",
    "\n",
    "np.random.seed(0)            \n",
    "sample([50, 3, 1, 7, 20], 5)   "
   ]
  },
  {
   "cell_type": "markdown",
   "metadata": {},
   "source": [
    "Реализуйте данный алгоритм более оптимальным способом на массивах `numpy`, без использования циклов. Проверьте корректность и идентичность алгоритмов семплирования с помощью статистических тестов."
   ]
  },
  {
   "cell_type": "code",
   "execution_count": 458,
   "metadata": {},
   "outputs": [
    {
     "data": {
      "text/plain": [
       "array([0, 3, 0, 0, 0], dtype=int64)"
      ]
     },
     "execution_count": 458,
     "metadata": {},
     "output_type": "execute_result"
    }
   ],
   "source": [
    "def sample_np(x: np.ndarray, c: int) -> np.ndarray:\n",
    "    assert np.size(x) > 0\n",
    "    \n",
    "    s = np.sum(x)\n",
    "    cs = np.cumsum(x)\n",
    "    val = np.random.random(c) * s\n",
    "    w = np.vectorize(lambda i: np.where(cs>i)[0][0])\n",
    "    ans = w(val)\n",
    "    return ans\n",
    "\n",
    "\n",
    "np.random.seed(0)\n",
    "sample_np([50, 3, 1, 7, 20], 5)\n"
   ]
  },
  {
   "cell_type": "markdown",
   "metadata": {},
   "source": [
    "# Задание 2.16 (5 баллов)\n",
    "\n",
    "Есть следующий алгоритм \"случайного блуждания\""
   ]
  },
  {
   "cell_type": "code",
   "execution_count": 459,
   "metadata": {},
   "outputs": [
    {
     "data": {
      "text/plain": [
       "1628"
      ]
     },
     "execution_count": 459,
     "metadata": {},
     "output_type": "execute_result"
    }
   ],
   "source": [
    "import random \n",
    "\n",
    "def walk(n: int):\n",
    "    cur_position = 0\n",
    "    for i in range(n):\n",
    "        cur_position += random.choice([-3, -1, 0, 2, 3])\n",
    "\n",
    "    return cur_position\n",
    "\n",
    "walk(10_000)"
   ]
  },
  {
   "cell_type": "markdown",
   "metadata": {},
   "source": [
    "Реализуйте более эффективную версию с помощью `numpy`, сравните производительность (используя, например, magic `timeit`). Воспользовавшись [kdeplot()](https://seaborn.pydata.org/generated/seaborn.kdeplot.html) или аналогами, постройте график распределения значений `walk(10_000)` на каком-то разумном числе запусков. "
   ]
  },
  {
   "cell_type": "code",
   "execution_count": 466,
   "metadata": {},
   "outputs": [
    {
     "name": "stdout",
     "output_type": "stream",
     "text": [
      "исходное время 4.050701500000287\n",
      "новое время 0.3297963000004529\n"
     ]
    },
    {
     "data": {
      "text/plain": [
       "<AxesSubplot:ylabel='Density'>"
      ]
     },
     "execution_count": 466,
     "metadata": {},
     "output_type": "execute_result"
    },
    {
     "data": {
      "image/png": "[encoded data removed]",
      "text/plain": [
       "<Figure size 432x288 with 1 Axes>"
      ]
     },
     "metadata": {},
     "output_type": "display_data"
    }
   ],
   "source": [
    "import timeit\n",
    "\n",
    "@np.vectorize\n",
    "def walk_np(n: int):\n",
    "    return np.sum(np.random.choice([-3, -1, 0, 2, 3], n))\n",
    "\n",
    "print('исходное время', timeit.timeit(lambda: walk(10_000), number=1000))\n",
    "print('новое время', timeit.timeit(lambda: walk_np(10_000), number=1000))\n",
    "\n",
    "x = np.ones(10000, dtype=np.int64) * 10_000\n",
    "y = walk_np(x)\n",
    "\n",
    "sns.kdeplot(data=y)"
   ]
  },
  {
   "cell_type": "markdown",
   "metadata": {},
   "source": [
    "# Задание 2.17 (5 баллов)\n",
    "\n",
    "Имеется функция, которая проделывает достаточно странные манипуляции с массивом `numpy`"
   ]
  },
  {
   "cell_type": "code",
   "execution_count": 469,
   "metadata": {},
   "outputs": [
    {
     "data": {
      "text/plain": [
       "0.4681908505419918"
      ]
     },
     "execution_count": 469,
     "metadata": {},
     "output_type": "execute_result"
    }
   ],
   "source": [
    "import numpy.typing as npt\n",
    "\n",
    "def strange_conv(a: npt.NDArray[np.float64]) -> np.float64:\n",
    "    x = a.shape[0]\n",
    "    y = a.shape[1]\n",
    "\n",
    "    t = 1.\n",
    "    for y in range(y - 5):\n",
    "        for x in range(x - 3):\n",
    "            c = 1.5 * a[y+1, x+2] - a[y+5, x+3] * a[y, x] + 0.2 * a[y+4, x]\n",
    "            t = 0.2 * t + 0.8 * c\n",
    "\n",
    "    return t\n",
    "\n",
    "\n",
    "a = np.random.random((10000, 10000))\n",
    "strange_conv(a)\n"
   ]
  },
  {
   "cell_type": "markdown",
   "metadata": {},
   "source": [
    "Оптимизируйте данную функцию с помощью (2 на выбор):\n",
    "- [Numba](https://numba.pydata.org)\n",
    "- `Cython` (+5 баллов)\n",
    "- [Taichi](https://github.com/taichi-dev/taichi) (+5 баллов)\n",
    "- `Pythran `[[1]](https://pythran.readthedocs.io/en/latest/), [[2]](https://serge-sans-paille.github.io/pythran-stories/pythran-tutorial.html) (+2 балла)\n",
    "\n",
    "Сравните производительность."
   ]
  },
  {
   "cell_type": "code",
   "execution_count": 475,
   "metadata": {},
   "outputs": [],
   "source": [
    "%load_ext cython"
   ]
  },
  {
   "cell_type": "code",
   "execution_count": 480,
   "metadata": {},
   "outputs": [],
   "source": [
    "\n",
    "%%cython\n",
    "cpdef float strange_conv_cython(a):\n",
    "    cdef int x = a.shape[0]\n",
    "    cdef int y = a.shape[1]\n",
    "\n",
    "    cdef float t = 1.\n",
    "    for y in range(y - 5):\n",
    "        for x in range(x - 3):\n",
    "            c = 1.5 * a[y+1, x+2] - a[y+5, x+3] * a[y, x] + 0.2 * a[y+4, x]\n",
    "            t = 0.2 * t + 0.8 * c\n",
    "\n",
    "    return t"
   ]
  },
  {
   "cell_type": "code",
   "execution_count": 481,
   "metadata": {},
   "outputs": [
    {
     "name": "stdout",
     "output_type": "stream",
     "text": [
      "исходное время 140.4121621000013\n",
      "время numba 0.4600769999997283\n",
      "время cython 105.83149729999786\n"
     ]
    }
   ],
   "source": [
    "from numba import njit\n",
    "\n",
    "\n",
    "@njit\n",
    "def strange_conv_numba(a: npt.NDArray[np.float64]) -> np.float64:\n",
    "    x = a.shape[0]\n",
    "    y = a.shape[1]\n",
    "\n",
    "    t = 1.\n",
    "    for y in range(y - 5):\n",
    "        for x in range(x - 3):\n",
    "            c = 1.5 * a[y+1, x+2] - a[y+5, x+3] * a[y, x] + 0.2 * a[y+4, x]\n",
    "            t = 0.2 * t + 0.8 * c\n",
    "\n",
    "    return t\n",
    "\n",
    "\n",
    "\n",
    "a = np.random.random((10000, 10000))\n",
    "\n",
    "print('исходное время', timeit.timeit(lambda: strange_conv(a), number=10))\n",
    "print('время numba', timeit.timeit(lambda: strange_conv_numba(a), number=10))\n",
    "print('время cython', timeit.timeit(lambda: strange_conv_cython(a), number=10))\n"
   ]
  }
 ],
 "metadata": {
  "kernelspec": {
   "display_name": "Python 3",
   "language": "python",
   "name": "python3"
  },
  "language_info": {
   "codemirror_mode": {
    "name": "ipython",
    "version": 3
   },
   "file_extension": ".py",
   "mimetype": "text/x-python",
   "name": "python",
   "nbconvert_exporter": "python",
   "pygments_lexer": "ipython3",
   "version": "3.9.0"
  },
  "orig_nbformat": 4,
  "vscode": {
   "interpreter": {
    "hash": "b17dcd539c7144c98c11bf08c0e7cc2f742abdfd9762668f0662862664d0ec33"
   }
  }
 },
 "nbformat": 4,
 "nbformat_minor": 2
}
